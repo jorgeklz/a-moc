{
  "nbformat": 4,
  "nbformat_minor": 0,
  "metadata": {
    "colab": {
      "name": "clase1.ipynb",
      "provenance": [],
      "collapsed_sections": [],
      "toc_visible": true,
      "authorship_tag": "ABX9TyO8uYd7VRgB+lcoz5lSnJO8",
      "include_colab_link": true
    },
    "kernelspec": {
      "name": "python3",
      "display_name": "Python 3"
    },
    "language_info": {
      "name": "python"
    }
  },
  "cells": [
    {
      "cell_type": "markdown",
      "metadata": {
        "id": "view-in-github",
        "colab_type": "text"
      },
      "source": [
        "<a href=\"https://colab.research.google.com/github/jorgeklz/a-moc/blob/master/clase1.ipynb\" target=\"_parent\"><img src=\"https://colab.research.google.com/assets/colab-badge.svg\" alt=\"Open In Colab\"/></a>"
      ]
    },
    {
      "cell_type": "markdown",
      "metadata": {
        "id": "uESNjxt9aZvP"
      },
      "source": [
        "# **Comentarios**\n",
        "\n",
        "---\n",
        "\n"
      ]
    },
    {
      "cell_type": "code",
      "metadata": {
        "id": "uhVB8pLnaf2d"
      },
      "source": [
        "print('Hola Chiquill@s') # Este es un comentario, y print es una función."
      ],
      "execution_count": null,
      "outputs": []
    },
    {
      "cell_type": "markdown",
      "metadata": {
        "id": "ufmzqllaZTzY"
      },
      "source": [
        "# **Variables e impresión**\n",
        "\n",
        "---\n",
        "\n"
      ]
    },
    {
      "cell_type": "code",
      "metadata": {
        "id": "L3xmmZ0pZkjC"
      },
      "source": [
        "edad = 21\n",
        "nombre = 'Ale Nielsen'\n",
        "print('{0} tiene {1} años y estudia Arte'.format(nombre, edad))\n",
        "print('¿Por qué está {0} aprendiendo Python?'.format(nombre))"
      ],
      "execution_count": null,
      "outputs": []
    },
    {
      "cell_type": "code",
      "metadata": {
        "id": "m-PnuxQja18y"
      },
      "source": [
        "edad = 21\n",
        "nombre = 'Ale Nielsen'\n",
        "print('{} tiene {} años y estudia Arte'.format(nombre, edad))\n",
        "print('¿Por qué está {0} aprendiendo Python?'.format(nombre))"
      ],
      "execution_count": null,
      "outputs": []
    },
    {
      "cell_type": "code",
      "metadata": {
        "cellView": "code",
        "id": "fudx_MR6bQ5G"
      },
      "source": [
        "edad = 21\n",
        "nombre = 'Ale Nielsen'\n",
        "print('{nombre} tiene {edad} años y estudia Arte'.format(nombre=nombre, edad=edad))\n",
        "print('¿ Por qué {nombre} está aprendiendo Python?'.format(nombre=nombre))"
      ],
      "execution_count": null,
      "outputs": []
    },
    {
      "cell_type": "code",
      "metadata": {
        "id": "eJobbuRzb33m"
      },
      "source": [
        "a= 28\n",
        "b= 5\n",
        "print(a + b)"
      ],
      "execution_count": null,
      "outputs": []
    },
    {
      "cell_type": "markdown",
      "metadata": {
        "id": "91Q_Oc6NZU0g"
      },
      "source": [
        "# **Indentación**\n",
        "\n",
        "---\n",
        "\n"
      ]
    },
    {
      "cell_type": "code",
      "metadata": {
        "id": "Moy6dxhmcIcK"
      },
      "source": [
        "#Las declaraciones que van juntas deben tener la misma sangría. \n",
        "#Cada conjunto de declaraciones se llama bloque.\n",
        "#La sangría incorrecta puede dar lugar a errores.\n",
        "\n",
        "a = 28\n",
        "# Esta declaración es inválida porque tiene un espacio al inicio de la línea\n",
        " print('El valor es', a)"
      ],
      "execution_count": null,
      "outputs": []
    },
    {
      "cell_type": "code",
      "metadata": {
        "id": "3BS9y9pgcr5-"
      },
      "source": [
        "a = 28\n",
        "print('Ahora si, el valor es ', a)"
      ],
      "execution_count": null,
      "outputs": []
    },
    {
      "cell_type": "markdown",
      "metadata": {
        "id": "9E-fl_CBc0wv"
      },
      "source": [
        "# **Operadores**\n",
        "\n",
        "---\n",
        "\n"
      ]
    },
    {
      "cell_type": "code",
      "metadata": {
        "id": "kPVCrWTxdMqs"
      },
      "source": [
        "4 + 2 * 2 # operaciones aritmeticas basicas."
      ],
      "execution_count": null,
      "outputs": []
    },
    {
      "cell_type": "code",
      "metadata": {
        "id": "iN_gZDyxdltb"
      },
      "source": [
        "7 // 3 # division entera"
      ],
      "execution_count": null,
      "outputs": []
    },
    {
      "cell_type": "code",
      "metadata": {
        "id": "QKFL9FlFdmw9"
      },
      "source": [
        "7 % 3 # Modular"
      ],
      "execution_count": null,
      "outputs": []
    },
    {
      "cell_type": "code",
      "metadata": {
        "id": "m1bgy89WdoIX"
      },
      "source": [
        "2 ** 3 # 2 elevado al cubo"
      ],
      "execution_count": null,
      "outputs": []
    },
    {
      "cell_type": "code",
      "metadata": {
        "id": "lHJyUlwmdvlW"
      },
      "source": [
        "#Funciones menos simples\n",
        "import math\n",
        "math.floor(2.3) # Funcion piso"
      ],
      "execution_count": null,
      "outputs": []
    },
    {
      "cell_type": "code",
      "metadata": {
        "id": "qmGYBhYWd3vc"
      },
      "source": [
        "math.fabs(-5) # valor absoluto"
      ],
      "execution_count": null,
      "outputs": []
    },
    {
      "cell_type": "code",
      "metadata": {
        "id": "shSNfBhwd4ms"
      },
      "source": [
        "math.factorial(3) # Factorial"
      ],
      "execution_count": null,
      "outputs": []
    },
    {
      "cell_type": "code",
      "metadata": {
        "id": "710Rgbrhd56j"
      },
      "source": [
        "math.exp(3) # e elevado a la x"
      ],
      "execution_count": null,
      "outputs": []
    },
    {
      "cell_type": "code",
      "metadata": {
        "id": "emJpIeAfd7Fb"
      },
      "source": [
        "math.sqrt(9) # raiz cuadrada"
      ],
      "execution_count": null,
      "outputs": []
    },
    {
      "cell_type": "code",
      "metadata": {
        "id": "0gFYqoUid8F9"
      },
      "source": [
        "math.log(math.exp(2)) # Logaritmo natural"
      ],
      "execution_count": null,
      "outputs": []
    },
    {
      "cell_type": "code",
      "metadata": {
        "id": "DRLxVW45d8--"
      },
      "source": [
        "print(math.floor(2.3))"
      ],
      "execution_count": null,
      "outputs": []
    },
    {
      "cell_type": "code",
      "metadata": {
        "colab": {
          "base_uri": "https://localhost:8080/"
        },
        "id": "zmPMBrdVesFJ",
        "outputId": "d7a6ad4e-cd34-4d81-bc0e-b821fa6519aa"
      },
      "source": [
        "longitud = 23\n",
        "anchura = 15\n",
        "area = longitud * anchura\n",
        "print('Área es', area)\n",
        "print('Perímetro es', 2 * (longitud + anchura))"
      ],
      "execution_count": 33,
      "outputs": [
        {
          "output_type": "stream",
          "text": [
            "Área es 345\n",
            "Perímetro es 76\n"
          ],
          "name": "stdout"
        }
      ]
    },
    {
      "cell_type": "markdown",
      "metadata": {
        "id": "W8-0BWXDgII9"
      },
      "source": [
        "# **Estructuras de control**\n",
        "\n",
        "---\n",
        "\n"
      ]
    },
    {
      "cell_type": "markdown",
      "metadata": {
        "id": "5hIxlQ35wa0P"
      },
      "source": [
        "**IF**"
      ]
    },
    {
      "cell_type": "code",
      "metadata": {
        "colab": {
          "base_uri": "https://localhost:8080/"
        },
        "id": "DMcN37QRmols",
        "outputId": "60840690-8920-4b50-d926-b2f025b11f2f"
      },
      "source": [
        "numero = 23\n",
        "adivina = int(input('Tengo un número... ¿Adivine cuál es? : '))\n",
        "\n",
        "if adivina == numero:\n",
        "  # Aqui inicia nuevo bloque\n",
        "  print('Bien, lo adivinaste.')\n",
        "  # Aqui termina nuevo bloque\n",
        "elif adivina < numero:\n",
        "  # Otro bloque\n",
        "  print('Casi. Es mas grande que ese número')\n",
        "  # Termina bloque\n",
        "else:\n",
        "  print('Casi. Es mas pequeño que ese número')\n",
        "\n"
      ],
      "execution_count": 37,
      "outputs": [
        {
          "output_type": "stream",
          "text": [
            "Tengo un número... ¿Adivine cuál es? : 23\n",
            "Bien, lo adivinaste.\n"
          ],
          "name": "stdout"
        }
      ]
    },
    {
      "cell_type": "markdown",
      "metadata": {
        "id": "IY9iY8PIwd6m"
      },
      "source": [
        "**WHILE**"
      ]
    },
    {
      "cell_type": "code",
      "metadata": {
        "colab": {
          "base_uri": "https://localhost:8080/"
        },
        "id": "u5h8GuOwwgnR",
        "outputId": "3543a1d0-36e3-4e8e-98a7-26f9b23fc26f"
      },
      "source": [
        "numero = 23\n",
        "ejecutando= True\n",
        "\n",
        "while ejecutando:\n",
        "  adivina = int(input('Ingrese un entero : '))\n",
        "  if adivina == numero:\n",
        "    # Aqui inicia nuevo bloque\n",
        "    print('Bien, lo adivinaste.')\n",
        "    ejecutando= False\n",
        "    # Aqui termina nuevo bloque\n",
        "  elif adivina < numero:\n",
        "    # Otro bloque\n",
        "    print('Casi, es mas grande que ese número')\n",
        "  # Termina bloque\n",
        "  else:\n",
        "      print('Casi, es mas pequeño que ese número')\n",
        "else:\n",
        "    print('El ciclo while ha terminado.')\n",
        "\n"
      ],
      "execution_count": 39,
      "outputs": [
        {
          "output_type": "stream",
          "text": [
            "Ingrese un entero : 23\n",
            "Bien, lo adivinaste.\n",
            "El ciclo while ha terminado.\n",
            "Hecho\n"
          ],
          "name": "stdout"
        }
      ]
    },
    {
      "cell_type": "markdown",
      "metadata": {
        "id": "6ox0U1ruxLU8"
      },
      "source": [
        "**FOR**"
      ]
    },
    {
      "cell_type": "code",
      "metadata": {
        "colab": {
          "base_uri": "https://localhost:8080/"
        },
        "id": "1IeTw_ffxI5V",
        "outputId": "d5067592-2af0-4ad3-d2a9-2ee4c6ba2e85"
      },
      "source": [
        "for i in range(1, 5):\n",
        "  print(i)\n",
        "else:\n",
        "  print('El bucle ha terminado')"
      ],
      "execution_count": 40,
      "outputs": [
        {
          "output_type": "stream",
          "text": [
            "1\n",
            "2\n",
            "3\n",
            "4\n",
            "El bucle ha terminado\n"
          ],
          "name": "stdout"
        }
      ]
    },
    {
      "cell_type": "markdown",
      "metadata": {
        "id": "oMM8-ml0xT5s"
      },
      "source": [
        "**BREAK**"
      ]
    },
    {
      "cell_type": "code",
      "metadata": {
        "colab": {
          "base_uri": "https://localhost:8080/"
        },
        "id": "971omyh5xPOF",
        "outputId": "41f3613a-fd49-428e-9050-019a51dbf0be"
      },
      "source": [
        "while True:\n",
        "  s = input('Ingrese palabra : ')\n",
        "  if s == 'salir':\n",
        "    break\n",
        "  print('El largo de la cadena es ', len(s))\n",
        "\n",
        "print('Hecho')"
      ],
      "execution_count": 42,
      "outputs": [
        {
          "output_type": "stream",
          "text": [
            "Ingrese palabra : salir\n",
            "Hecho\n"
          ],
          "name": "stdout"
        }
      ]
    },
    {
      "cell_type": "markdown",
      "metadata": {
        "id": "4uCuX8fwzXRl"
      },
      "source": [
        "**CONTINUE**"
      ]
    },
    {
      "cell_type": "code",
      "metadata": {
        "colab": {
          "base_uri": "https://localhost:8080/"
        },
        "id": "9IBzv6evzWEK",
        "outputId": "8c81818c-df86-4559-d730-cd98b22421c3"
      },
      "source": [
        "while True:\n",
        "  s = input('Ingrese palabra : ')\n",
        "  if s == 'salir':\n",
        "    break\n",
        "  if len(s) < 5:\n",
        "    print('Muy corta')\n",
        "    continue\n",
        "\n",
        "kgprint('Listo, la palabra es larga')"
      ],
      "execution_count": 45,
      "outputs": [
        {
          "output_type": "stream",
          "text": [
            "Ingrese palabra : gik\n",
            "Muy corta\n",
            "Ingrese palabra : huj\n",
            "Muy corta\n",
            "Ingrese palabra : kj\n",
            "Muy corta\n",
            "Ingrese palabra : hkgtbuyt\n",
            "Ingrese palabra : salir\n",
            "Listo, la palabra es larga\n"
          ],
          "name": "stdout"
        }
      ]
    },
    {
      "cell_type": "markdown",
      "metadata": {
        "id": "WyI5Qm9X0vJ5"
      },
      "source": [
        "#**Funciones**"
      ]
    },
    {
      "cell_type": "code",
      "metadata": {
        "colab": {
          "base_uri": "https://localhost:8080/"
        },
        "id": "k7yCsKfE2crW",
        "outputId": "fbbdcd17-ce88-4610-da17-2960fce3d054"
      },
      "source": [
        "def decir_hola():\n",
        "  # bloque de la función\n",
        "  print('Hola chiquill@s')\n",
        "  # Fin de la función.\n",
        "\n",
        "\n",
        "decir_hola() # llamada a la función\n",
        "decir_hola() # llamada a la función nuevamente."
      ],
      "execution_count": 46,
      "outputs": [
        {
          "output_type": "stream",
          "text": [
            "Hola chiquill@s\n",
            "Hola chiquill@s\n"
          ],
          "name": "stdout"
        }
      ]
    },
    {
      "cell_type": "code",
      "metadata": {
        "colab": {
          "base_uri": "https://localhost:8080/"
        },
        "id": "_VuNR_za3cd-",
        "outputId": "7f0a9632-c092-45da-e1de-6e74a731750d"
      },
      "source": [
        "def imprimir_max(a, b):\n",
        "  if a > b:\n",
        "    print(a, 'es máximo')\n",
        "  elif a == b:\n",
        "    print(a, 'es igual que', b)\n",
        "  else:\n",
        "    print(b, 'es máximo')\n",
        "\n",
        "\n",
        "# Pasando directamente los valores de variables\n",
        "imprimir_max(28, 5)\n",
        "\n",
        "\n",
        "x = 11\n",
        "y = 10\n",
        "# Pasando los valores de variables como argumentos\n",
        "imprimir_max(x, y)\n",
        "\n",
        "\n",
        "\n"
      ],
      "execution_count": 48,
      "outputs": [
        {
          "output_type": "stream",
          "text": [
            "28 es máximo\n",
            "11 es máximo\n",
            "Hola\n",
            "Chiquill@s Chiquill@s Chiquill@s Chiquill@s Chiquill@s \n"
          ],
          "name": "stdout"
        }
      ]
    },
    {
      "cell_type": "code",
      "metadata": {
        "colab": {
          "base_uri": "https://localhost:8080/"
        },
        "id": "I7qmp85n31bg",
        "outputId": "761ec177-df22-4200-bf16-072858bf7f17"
      },
      "source": [
        "def hablar(mensaje, repetir=1):\n",
        "  print(mensaje * repetir)\n",
        "\n",
        "\n",
        "\n",
        "hablar('Hola')\n",
        "hablar('Chiquill@s ', 5)"
      ],
      "execution_count": 49,
      "outputs": [
        {
          "output_type": "stream",
          "text": [
            "Hola\n",
            "Chiquill@s Chiquill@s Chiquill@s Chiquill@s Chiquill@s \n"
          ],
          "name": "stdout"
        }
      ]
    },
    {
      "cell_type": "code",
      "metadata": {
        "colab": {
          "base_uri": "https://localhost:8080/"
        },
        "id": "aaQqVMow38He",
        "outputId": "87a68077-8d64-4317-8d11-db1299cb31da"
      },
      "source": [
        "x = 28\n",
        "\n",
        "def funcion(x):\n",
        "  print('x es', x)\n",
        "  x = 5\n",
        "  print('Cambio valor local de x a', x)\n",
        "\n",
        "\n",
        "funcion(x)\n",
        "print('x todavia es', x)"
      ],
      "execution_count": 51,
      "outputs": [
        {
          "output_type": "stream",
          "text": [
            "x es 28\n",
            "Cambio valor local de x a 5\n",
            "x todavia es 28\n"
          ],
          "name": "stdout"
        }
      ]
    },
    {
      "cell_type": "code",
      "metadata": {
        "colab": {
          "base_uri": "https://localhost:8080/"
        },
        "id": "moJuXKwL5na2",
        "outputId": "85a26822-c8a1-4c1a-b589-ae24aa8cf3c8"
      },
      "source": [
        "x = 28\n",
        "\n",
        "def funcion():\n",
        "  global x\n",
        "\n",
        "  print('x es', x)\n",
        "  x = 5\n",
        "  print('Cambio valor local de x a', x)\n",
        "\n",
        "funcion()\n",
        "print('x ahora es', x)"
      ],
      "execution_count": 52,
      "outputs": [
        {
          "output_type": "stream",
          "text": [
            "x es 28\n",
            "Cambio valor local de x a 5\n",
            "x ahora es 5\n"
          ],
          "name": "stdout"
        }
      ]
    },
    {
      "cell_type": "code",
      "metadata": {
        "colab": {
          "base_uri": "https://localhost:8080/"
        },
        "id": "YiZ-KZQt6NYV",
        "outputId": "5c1b8de2-8098-4b78-fb84-92cc923b55bf"
      },
      "source": [
        "def maximo(x, y):\n",
        "  if x > y:\n",
        "    return x\n",
        "  elif x == y:\n",
        "    return 'Los números son iguales'\n",
        "  else:\n",
        "    return y\n",
        "\n",
        "\n",
        "print(maximo(22, 4))"
      ],
      "execution_count": 53,
      "outputs": [
        {
          "output_type": "stream",
          "text": [
            "22\n"
          ],
          "name": "stdout"
        }
      ]
    },
    {
      "cell_type": "markdown",
      "metadata": {
        "id": "ojvtf-T76NHq"
      },
      "source": [
        "# **Estructura de Datos**"
      ]
    },
    {
      "cell_type": "markdown",
      "metadata": {
        "id": "-X5h402Z8PDC"
      },
      "source": [
        "LISTAS"
      ]
    },
    {
      "cell_type": "code",
      "metadata": {
        "colab": {
          "base_uri": "https://localhost:8080/"
        },
        "id": "klBKd57C8HUL",
        "outputId": "7c205e6b-501e-4beb-d69e-88d53fb28a0b"
      },
      "source": [
        "# Lista de productos a comprar\n",
        "lista_compra = ['manzana', 'mango', 'fresas', 'kiwi']\n",
        "\n",
        "print('Tengo que comprar', len(lista_compra), 'productos.')\n",
        "\n",
        "print('Los productos son:', end=' ') #elimina el salto de linea\n",
        "\n",
        "\n",
        "\n",
        "for producto in lista_compra:\n",
        "  print(producto, end=' ')\n",
        "\n",
        "\n",
        "print('\\nAdicionalmente se debe comprar arroz.')\n",
        "lista_compra.append('arroz')\n",
        "print('La lista ahora es:', lista_compra)\n",
        "\n",
        "lista_compra.sort()\n",
        "print('La lista ordenada es:', lista_compra)\n",
        "print('El primer producto a comprar es: ', lista_compra[0])\n",
        "\n",
        "item = lista_compra[0]\n",
        "print('Se compra el producto', item)\n",
        "\n",
        "\n",
        "del lista_compra[0]\n",
        "\n",
        "print('La lista ahora es:', lista_compra)"
      ],
      "execution_count": 56,
      "outputs": [
        {
          "output_type": "stream",
          "text": [
            "Tengo que comprar 4 productos.\n",
            "Los productos son: manzana mango fresas kiwi \n",
            "Adicionalmente se debe comprar arroz.\n",
            "La lista ahora es: ['manzana', 'mango', 'fresas', 'kiwi', 'arroz']\n",
            "La lista ordenada es: ['arroz', 'fresas', 'kiwi', 'mango', 'manzana']\n",
            "El primer producto a comprar es:  arroz\n",
            "Se compra el producto arroz\n",
            "La lista ahora es: ['fresas', 'kiwi', 'mango', 'manzana']\n"
          ],
          "name": "stdout"
        }
      ]
    },
    {
      "cell_type": "markdown",
      "metadata": {
        "id": "HsRW8nHJDoZv"
      },
      "source": [
        "TUPLAS"
      ]
    },
    {
      "cell_type": "code",
      "metadata": {
        "colab": {
          "base_uri": "https://localhost:8080/"
        },
        "id": "JqANcUJmDrWx",
        "outputId": "9ec0a906-3b08-49f7-d47b-fb18a7f7010d"
      },
      "source": [
        "concesionario = ('BMW', 'Kia', 'Nissan')\n",
        "print('La cantidad de marcas de carros en el concesionario es', len(concesionario))\n",
        "nuevo_concesionario = ('Ford', concesionario)\n",
        "print('La cantidad de objetos en el nuevo concesionario es',\n",
        "len(nuevo_concesionario))\n",
        "print('Las marcas en el nuevo concesionario son',\n",
        "nuevo_concesionario)\n",
        "print('Las marcas que vienen del viejo concesionario',\n",
        "nuevo_concesionario[1])\n",
        "print('La ultima marca que vienen del viejo concesionario',\n",
        "nuevo_concesionario[1][2])\n",
        "print('La cantidad de marcas en el nuevo concesionario',\n",
        "len(nuevo_concesionario)-1+len(nuevo_concesionario[1]))"
      ],
      "execution_count": 57,
      "outputs": [
        {
          "output_type": "stream",
          "text": [
            "La cantidad de marcas de carros en el concesionario es 3\n",
            "La cantidad de objetos en el nuevo concesionario es 2\n",
            "Las marcas en el nuevo concesionario son ('Ford', ('BMW', 'Kia', 'Nissan'))\n",
            "Las marcas que vienen del viejo concesionario ('BMW', 'Kia', 'Nissan')\n",
            "La ultima marca que vienen del viejo concesionario Nissan\n",
            "La cantidad de marcas en el nuevo concesionario 4\n"
          ],
          "name": "stdout"
        }
      ]
    },
    {
      "cell_type": "markdown",
      "metadata": {
        "id": "qr1iMnXuLvtp"
      },
      "source": [
        "DICCIONARIO"
      ]
    },
    {
      "cell_type": "code",
      "metadata": {
        "id": "DZinRAQvMoxo"
      },
      "source": [
        "libreta = {\n",
        "'Jonas': 'jonas@kahnwald.com',\n",
        "'Martha': 'larry@nielsen.com',\n",
        "'Ulrich': 'ulrich@nielsen.com',\n",
        "'Egon': 'egon@tiedemann.com',\n",
        "'Mikkel': 'mikkel@kahnwald.com'\n",
        "}\n",
        "\n",
        "# Para saber el correo de Ulrich\n",
        "print(\"El correo de Ulrich es\", libreta['Ulrich'])\n",
        "# Eliminar a Egon\n",
        "del libreta['Egon']\n",
        "\n",
        "print('\\nHay {} contactos en la libreta\\n'.format(len(libreta)))\n",
        "\n",
        "\n",
        "# Mostrar los contactos\n",
        "for nombre, correo in libreta.items():\n",
        "  print('Contacto {}, correo {}'.format(nombre, correo))\n",
        "\n",
        "# Agregar contacto\n",
        "libreta['Claudia'] = 'claudia@tiedemann.com'\n",
        "\n",
        "\n",
        "# Mostrar contacto agregado\n",
        "if 'Claudia' in libreta:\n",
        "  print(\"\\nEl correo de Claudia es \", libreta['Claudia'])"
      ],
      "execution_count": null,
      "outputs": []
    },
    {
      "cell_type": "markdown",
      "metadata": {
        "id": "5yV139blXitK"
      },
      "source": [
        "SECUENCIA"
      ]
    },
    {
      "cell_type": "code",
      "metadata": {
        "colab": {
          "base_uri": "https://localhost:8080/"
        },
        "id": "OaqATcISXmCq",
        "outputId": "1ab1fbd3-a7c0-4794-d339-4c28e21f11c8"
      },
      "source": [
        "lista_frutas = ['manzana', 'mango', 'fresa', 'kiwi']\n",
        "cadena_autor = 'Jonas'\n",
        "\n",
        "# Acceder a una\n",
        "print('Elemento 0 es', lista_frutas[0])\n",
        "print('Elemento 2 es', lista_frutas[2])\n",
        "print('Caracter 0 es', cadena_autor[0])\n",
        "print('Caracter 3  es', cadena_autor[3])\n",
        " "
      ],
      "execution_count": 61,
      "outputs": [
        {
          "output_type": "stream",
          "text": [
            "Elemento 0 es manzana\n",
            "Elemento 2 es fresa\n",
            "Caracter 0 es J\n",
            "Caracter 3  es a\n"
          ],
          "name": "stdout"
        }
      ]
    },
    {
      "cell_type": "code",
      "metadata": {
        "id": "7AI1eLpFZg4R"
      },
      "source": [
        "#Slicing en lista\n",
        "print('Elementos desde 1 a 3 son', lista_frutas[1:3])\n",
        "print('Elementos desde 2 hasta final son', lista_frutas[2:])\n",
        "print('Elementos desde inicio hasta final', lista_frutas[:])\n",
        "print('Elementos desde inicio hasta 3', lista_frutas[:3])\n",
        "\n"
      ],
      "execution_count": null,
      "outputs": []
    },
    {
      "cell_type": "code",
      "metadata": {
        "id": "_2coYoQYZywT"
      },
      "source": [
        "#Slicing en cadena de texto\n",
        "print('Caracteres desde 2 a 3 son', cadena_autor[2:3])\n",
        "print('Caracteres desde 2 al final son', cadena_autor[2:])\n",
        "print('Caracteres dede inicio hasta final', cadena_autor[:])"
      ],
      "execution_count": null,
      "outputs": []
    },
    {
      "cell_type": "code",
      "metadata": {
        "colab": {
          "base_uri": "https://localhost:8080/"
        },
        "id": "KGBcbanebLVO",
        "outputId": "fcc527ed-1508-4e8b-8bfd-2e01bf96ed5f"
      },
      "source": [
        "lista_frutas = ['manzana', 'mango', 'fresa', 'kiwi', 'naranja', 'sandia']\n",
        "#Slicing toda la lista, con tamano 1\n",
        "print(lista_frutas[::1])\n",
        "#Slicing toda la lista, con tamano 2.\n",
        "#Toma el primero, cuenta y va mostrando cada 2 posiciones.\n",
        "print(lista_frutas[::2])\n",
        "#Slicing toda la lista, con tamano 3.\n",
        "print(lista_frutas[::3])"
      ],
      "execution_count": 66,
      "outputs": [
        {
          "output_type": "stream",
          "text": [
            "['manzana', 'mango', 'fresa', 'kiwi', 'naranja', 'sandia']\n",
            "['manzana', 'fresa', 'naranja']\n",
            "['manzana', 'kiwi']\n"
          ],
          "name": "stdout"
        }
      ]
    },
    {
      "cell_type": "markdown",
      "metadata": {
        "id": "SnKjU0D3bSw6"
      },
      "source": [
        "CONJUNTOS"
      ]
    },
    {
      "cell_type": "code",
      "metadata": {
        "colab": {
          "base_uri": "https://localhost:8080/"
        },
        "id": "l7k4SvJBbUlI",
        "outputId": "7eff2d32-6bc5-454d-ad22-c84db7acc394"
      },
      "source": [
        "sudamerica= set(['Argentina', 'Bolivia', 'Brasil', 'Chile','Colombia', 'Ecuador', 'Paraguay', 'Peru', 'Uruguary', 'Venezuela'])\n",
        "\n",
        "# Consultar si un pais pertenece a sudamerica\n",
        "'Ecuador' in sudamerica\n",
        "\n",
        "# Sacamos una copia del conjunto sudamerica.\n",
        "# En Python si en lugar de usar .copy se asignaba directamente\n",
        "# a sudamerica2 el contenido de sudamerica\n",
        "# Cambio realizado en uno de ellos se se reflejaria en ambos conjuntos.\n",
        "sudamerica2= sudamerica.copy()\n",
        "# Agregamos Guyana\n",
        "sudamerica2.add('Guyana')\n",
        "# Verifica si es superconjunto.\n",
        "# True si cada elemento del conjunto sudamerica está en conjunto sudamerica2.\n",
        "print(sudamerica2.issuperset(sudamerica))\n",
        "# Elimina elementos del conjunto\n",
        "sudamerica.remove('Colombia')\n",
        "sudamerica.remove('Peru')\n",
        "sudamerica.remove('Bolivia')\n",
        "# Aplica interseccion de conjuntos, o sea los paises que estan en embos conjuntos\n",
        "print(sudamerica2.intersection(sudamerica))"
      ],
      "execution_count": 68,
      "outputs": [
        {
          "output_type": "stream",
          "text": [
            "True\n",
            "{'Venezuela', 'Argentina', 'Uruguary', 'Brasil', 'Chile', 'Paraguay', 'Ecuador'}\n"
          ],
          "name": "stdout"
        }
      ]
    }
  ]
}